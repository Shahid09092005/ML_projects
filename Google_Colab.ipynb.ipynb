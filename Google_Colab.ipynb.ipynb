{
  "nbformat": 4,
  "nbformat_minor": 0,
  "metadata": {
    "colab": {
      "provenance": []
    },
    "kernelspec": {
      "name": "python3",
      "display_name": "Python 3"
    },
    "language_info": {
      "name": "python"
    }
  },
  "cells": [
    {
      "cell_type": "markdown",
      "source": [
        "**Pre-Processing**"
      ],
      "metadata": {
        "id": "JX4SLWK0uBYX"
      }
    },
    {
      "cell_type": "code",
      "execution_count": 1,
      "metadata": {
        "id": "W9dxu4SB-SAq"
      },
      "outputs": [],
      "source": [
        "#Install kaggle\n",
        "!pip install -q kaggle"
      ]
    },
    {
      "cell_type": "code",
      "source": [
        "#upload the  kaggle json file\n",
        "from google.colab import files\n",
        "files.upload()"
      ],
      "metadata": {
        "id": "sgqt23Dt-6cZ"
      },
      "execution_count": null,
      "outputs": []
    },
    {
      "cell_type": "code",
      "source": [
        "# Create a directory named \"kaggle\"\n",
        "!mkdir ~/.kaggle"
      ],
      "metadata": {
        "id": "SFI3oDVp_Y4J"
      },
      "execution_count": 3,
      "outputs": []
    },
    {
      "cell_type": "code",
      "source": [
        "#Copy the kaggle.json to created folder\n",
        "! cp kaggle.json ~/.kaggle/"
      ],
      "metadata": {
        "id": "X_YfwXrGAbKz"
      },
      "execution_count": 4,
      "outputs": []
    },
    {
      "cell_type": "code",
      "source": [
        "#permisson for the json to act\n",
        "! chmod 600 ~/.kaggle/kaggle.json"
      ],
      "metadata": {
        "id": "abcjsWegAutc"
      },
      "execution_count": 5,
      "outputs": []
    },
    {
      "cell_type": "code",
      "source": [
        "#upload here api command that taken from the dataset\n",
        "!kaggle datasets download -d aayushsoni4/tmdb-5000-movie-dataset-with-ratings"
      ],
      "metadata": {
        "id": "c2pIySAcBTN4"
      },
      "execution_count": null,
      "outputs": []
    },
    {
      "cell_type": "code",
      "source": [
        "#unzip the file\n",
        "!unzip tmdb-5000-movie-dataset-with-ratings.zip"
      ],
      "metadata": {
        "id": "aPRFdC17CFuv"
      },
      "execution_count": null,
      "outputs": []
    },
    {
      "cell_type": "code",
      "source": [
        "import pandas as pd\n",
        "credits=pd.read_csv('/content/tmdb_movie_credits.csv')\n",
        "dataset=pd.read_csv('/content/tmdb_movie_dataset.csv')\n",
        "rating =pd.read_csv('/content/tmdb_movie_ratings.csv')"
      ],
      "metadata": {
        "id": "DeqiENIKGEpH"
      },
      "execution_count": 8,
      "outputs": []
    },
    {
      "cell_type": "code",
      "source": [
        "movie=dataset.merge(credits,on='title')\n",
        "movie.info()"
      ],
      "metadata": {
        "id": "9jTpZC4GIYdC"
      },
      "execution_count": null,
      "outputs": []
    },
    {
      "cell_type": "code",
      "source": [
        "# Select specific columns\n",
        "movie=movie[['title','genres', 'keywords', 'original_language', 'overview', 'cast', 'crew']]\n",
        "\n",
        "# Display the first row\n",
        "movie.head(1)"
      ],
      "metadata": {
        "id": "qxGCxllKK1cw"
      },
      "execution_count": null,
      "outputs": []
    },
    {
      "cell_type": "code",
      "source": [
        "movie.isnull().sum() #before dropping null value"
      ],
      "metadata": {
        "id": "Hpk8_1paPoC0"
      },
      "execution_count": null,
      "outputs": []
    },
    {
      "cell_type": "code",
      "source": [
        "# movie.dropna(inplace=True)  #in overview section only 1 value is null so I droped it"
      ],
      "metadata": {
        "id": "yqdcY0SWPztW"
      },
      "execution_count": 12,
      "outputs": []
    },
    {
      "cell_type": "code",
      "source": [
        "# movie.isnull().sum() #after droping null value"
      ],
      "metadata": {
        "id": "yt79oeJIP6f4"
      },
      "execution_count": 13,
      "outputs": []
    },
    {
      "cell_type": "code",
      "source": [
        "movie.duplicated().sum() #checking the duplicated row"
      ],
      "metadata": {
        "id": "kyayyW5oQb3P"
      },
      "execution_count": null,
      "outputs": []
    },
    {
      "cell_type": "code",
      "source": [
        "movie.iloc[1].genres #invide movie with row 0 we are accessing only genres value"
      ],
      "metadata": {
        "id": "SAcIZOUAQ5oN"
      },
      "execution_count": null,
      "outputs": []
    },
    {
      "cell_type": "code",
      "source": [
        "import ast  # helps in converting string to dictionary or list format\n",
        "\n",
        "def convert1(obj):  # function\n",
        "    fetch = []  # empty list\n",
        "    try:\n",
        "        for i in ast.literal_eval(obj):     # accessing the value\n",
        "            fetch.append(i['name'])\n",
        "    except ValueError:\n",
        "        print(\"Error: Input is not a valid Python expression.\")\n",
        "    return fetch  # returning the list"
      ],
      "metadata": {
        "id": "j3XxnCOBbSbI"
      },
      "execution_count": 16,
      "outputs": []
    },
    {
      "cell_type": "code",
      "source": [
        "movie['genres'] = movie['genres'].apply(convert1)"
      ],
      "metadata": {
        "id": "YlxEyTeigaky"
      },
      "execution_count": 17,
      "outputs": []
    },
    {
      "cell_type": "code",
      "source": [
        "movie['keywords'][0]"
      ],
      "metadata": {
        "id": "TQ7P62pcj-gR"
      },
      "execution_count": null,
      "outputs": []
    },
    {
      "cell_type": "code",
      "source": [
        "movie['keywords'] = movie['keywords'].apply(convert1)"
      ],
      "metadata": {
        "id": "7HsBwIKfgVpN"
      },
      "execution_count": 19,
      "outputs": []
    },
    {
      "cell_type": "code",
      "source": [
        "def convert3(obj):  # function\n",
        "    fetch = []  # empty list\n",
        "    counter=0\n",
        "    try:\n",
        "        for i in ast.literal_eval(obj):\n",
        "          if counter!=3:    # accessing the value\n",
        "            fetch.append(i['name'])\n",
        "          else:\n",
        "            break\n",
        "    except ValueError:\n",
        "        print(\"Error: Input is not a valid Python expression.\")\n",
        "    return fetch  # returning the list"
      ],
      "metadata": {
        "id": "qlCcXbCThVTJ"
      },
      "execution_count": 20,
      "outputs": []
    },
    {
      "cell_type": "code",
      "source": [
        "movie['cast'] = movie['cast'].apply(convert3)"
      ],
      "metadata": {
        "id": "Un05AcDYUdrf"
      },
      "execution_count": 21,
      "outputs": []
    },
    {
      "cell_type": "code",
      "source": [
        "def convert(obj):  # function\n",
        "    fetch = []  # empty list\n",
        "    try:\n",
        "        for i in ast.literal_eval(obj):    # accessing the value\n",
        "          if i['job']=='Director':\n",
        "            fetch.append(i['name'])\n",
        "            break\n",
        "    except ValueError:\n",
        "        print(\"Error: Input is not a valid Python expression.\")\n",
        "    return fetch  # returning the list"
      ],
      "metadata": {
        "id": "MwfB5C9MjWue"
      },
      "execution_count": 22,
      "outputs": []
    },
    {
      "cell_type": "code",
      "source": [
        "movie['crew'] = movie['crew'].apply(convert3)"
      ],
      "metadata": {
        "id": "hIjK1_IFjutu"
      },
      "execution_count": 23,
      "outputs": []
    },
    {
      "cell_type": "code",
      "source": [
        "movie['overview'][1]  #Before split"
      ],
      "metadata": {
        "id": "1DHFiQk5bJq7"
      },
      "execution_count": null,
      "outputs": []
    },
    {
      "cell_type": "code",
      "source": [
        "movie.head(1)"
      ],
      "metadata": {
        "id": "zAeKD_AWq3VE"
      },
      "execution_count": null,
      "outputs": []
    },
    {
      "cell_type": "code",
      "source": [
        "# Applying lambda function to split each overview text into a list of words\n",
        "movie['overview']= movie['overview'].apply(lambda x: x.split() if isinstance(x, str) else [])"
      ],
      "metadata": {
        "id": "VvboKROCldMx"
      },
      "execution_count": 26,
      "outputs": []
    },
    {
      "cell_type": "code",
      "source": [
        "#Removing all the spaces\n",
        "movie['genres'].apply(lambda x:[i.replace(\" \",\"\") for i in x])\n",
        "movie['keywords'].apply(lambda x:[i.replace(\" \",\"\") for i in x])\n",
        "movie['cast'].apply(lambda x:[i.replace(\" \",\"\") for i in x])\n",
        "movie['crew'].apply(lambda x:[i.replace(\" \",\"\") for i in x])"
      ],
      "metadata": {
        "id": "GCwekpR0pG3x"
      },
      "execution_count": null,
      "outputs": []
    },
    {
      "cell_type": "code",
      "source": [
        "#Concating genres, keywords , cast ,crew\n",
        "movie['tags']=movie['genres']+movie['keywords']+movie['cast']+movie['crew']"
      ],
      "metadata": {
        "id": "ao2x__XGrdY4"
      },
      "execution_count": 28,
      "outputs": []
    },
    {
      "cell_type": "code",
      "source": [
        "movie_df=movie[['title','tags']]  #creating new dataframe with title and tags"
      ],
      "metadata": {
        "id": "1lC-jmSrrrqT"
      },
      "execution_count": 29,
      "outputs": []
    },
    {
      "cell_type": "code",
      "source": [
        "#converting list of tags into string format\n",
        "movie_df['tags']=movie_df['tags'].apply(lambda x:\" \".join(x))"
      ],
      "metadata": {
        "id": "jyEkAGBEsl2B"
      },
      "execution_count": null,
      "outputs": []
    },
    {
      "cell_type": "code",
      "source": [
        "movie_df['tags']=movie_df['tags'].apply(lambda x:x.lower())"
      ],
      "metadata": {
        "id": "1hQXXp4JtFxF"
      },
      "execution_count": null,
      "outputs": []
    },
    {
      "cell_type": "code",
      "source": [
        "movie_df.sample(5)"
      ],
      "metadata": {
        "id": "MigkMBkEtwEL"
      },
      "execution_count": null,
      "outputs": []
    },
    {
      "cell_type": "markdown",
      "source": [
        "**Text Visulization**"
      ],
      "metadata": {
        "id": "WadSqdIut7NA"
      }
    },
    {
      "cell_type": "markdown",
      "source": [
        "The Porter Stemmer is a stemming algorithm, specifically designed to transform words into their root forms. It's part of the Natural Language Toolkit (NLTK), which is a Python library commonly used for natural language processing tasks."
      ],
      "metadata": {
        "id": "5VqfXRgVWk6b"
      }
    },
    {
      "cell_type": "code",
      "source": [
        "import nltk # eg. love,loves,loved conveted into it's root form as love\n",
        "from nltk.stem.porter import PorterStemmer\n",
        "ps=PorterStemmer()"
      ],
      "metadata": {
        "id": "0feut5aPXHhT"
      },
      "execution_count": 33,
      "outputs": []
    },
    {
      "cell_type": "code",
      "source": [
        "def stem(text):\n",
        "  y=[]\n",
        "  for i in text.split():\n",
        "    y.append(ps.stem(i))\n",
        "  return \" \".join(y)"
      ],
      "metadata": {
        "id": "ixssbty8Xzfj"
      },
      "execution_count": 34,
      "outputs": []
    },
    {
      "cell_type": "code",
      "source": [
        "movie_df['tags']=movie_df['tags'].apply(stem)"
      ],
      "metadata": {
        "id": "DwSqCoyFXLGI"
      },
      "execution_count": null,
      "outputs": []
    },
    {
      "cell_type": "code",
      "source": [
        "#Convert a collection of text documents to a matrix of token counts.\n",
        "from sklearn.feature_extraction.text import CountVectorizer\n",
        "cv=CountVectorizer( max_features=5000,stop_words='english')  #here stop words means it not count the stop words like to, in from, by etc\n",
        "vector=cv.fit_transform(movie_df['tags']).toarray()"
      ],
      "metadata": {
        "id": "Zljhp8d3NwXf"
      },
      "execution_count": 36,
      "outputs": []
    },
    {
      "cell_type": "code",
      "source": [
        "vector #converting most frequently tags used in movie into binary formate inside the array"
      ],
      "metadata": {
        "id": "ahBFiUdFPQ_B"
      },
      "execution_count": null,
      "outputs": []
    },
    {
      "cell_type": "code",
      "source": [
        "# checking the first 100 frequent counts in inside the 5000 list\n",
        "empty=[]\n",
        "for i in range(0,100):\n",
        "  empty.append(cv.get_feature_names_out()[i]) #these are the 5000 words that are mostly repeated in the movie dataset\n",
        "empty\n"
      ],
      "metadata": {
        "id": "sW43AFQ_PY__"
      },
      "execution_count": null,
      "outputs": []
    },
    {
      "cell_type": "code",
      "source": [
        " #this will give the list of stop words\n",
        "cv.get_stop_words()"
      ],
      "metadata": {
        "id": "nm252ekPRQ5v"
      },
      "execution_count": null,
      "outputs": []
    },
    {
      "cell_type": "code",
      "source": [
        "from sklearn.metrics.pairwise import cosine_similarity\n",
        "similarity=cosine_similarity(vector)"
      ],
      "metadata": {
        "id": "3nhvy2aQaQgz"
      },
      "execution_count": 40,
      "outputs": []
    },
    {
      "cell_type": "code",
      "source": [
        "#This will help in giving the index of the movie name\n",
        "movie_df[movie_df['title']=='Four Rooms'].index[0]\n",
        "sorted(list(enumerate(similarity[0])),reverse=True,key=lambda x:x[0])[1:6]"
      ],
      "metadata": {
        "id": "zp6ya0KFDqrk"
      },
      "execution_count": null,
      "outputs": []
    },
    {
      "cell_type": "code",
      "source": [
        "def recommend(movie):\n",
        "  index_value=movie_df[movie_df['title']==movie].index[0]\n",
        "  distance=similarity[index_value]\n",
        "  movie_list=sorted(list(enumerate(distance)),reverse=True,key=lambda x:x[1])[1:6]\n",
        "  for i in movie_list:\n",
        "    print(movie_df.iloc[i[0]].title)\n"
      ],
      "metadata": {
        "id": "TJu9TFjMDGpU"
      },
      "execution_count": 42,
      "outputs": []
    },
    {
      "cell_type": "code",
      "source": [
        "import pickle"
      ],
      "metadata": {
        "id": "24SFLcyhA6Df"
      },
      "execution_count": 51,
      "outputs": []
    },
    {
      "cell_type": "code",
      "source": [
        "pickle.dump(movie_df.to_dict(),open('movie_list.pkl','wb'))"
      ],
      "metadata": {
        "id": "JmhVY0OMBESJ"
      },
      "execution_count": 62,
      "outputs": []
    },
    {
      "cell_type": "code",
      "source": [],
      "metadata": {
        "id": "g1JUAPzAKF5m"
      },
      "execution_count": null,
      "outputs": []
    },
    {
      "cell_type": "code",
      "source": [
        "pickle.dump(similarity,open('similarity.pkl','wb'))"
      ],
      "metadata": {
        "id": "ijTuPneHJ23A"
      },
      "execution_count": 63,
      "outputs": []
    }
  ]
}